{
 "cells": [
  {
   "cell_type": "code",
   "execution_count": 24,
   "metadata": {},
   "outputs": [
    {
     "name": "stdout",
     "output_type": "stream",
     "text": [
      "<title>Staphylococcus aureus DNA, complete genome, strain: JP080 - Nucleotide - NCBI</title>\n",
      "<meta content=\"text/html; charset=utf-8\" http-equiv=\"Content-Type\"/>\n",
      "<meta content=\"index,nofollow,noarchive\" name=\"robots\"/>\n",
      "<meta content=\"entrez\" name=\"ncbi_app\"/>\n",
      "<meta content=\"nuccore\" name=\"ncbi_db\"/>\n",
      "<meta content=\"genbank\" name=\"ncbi_report\"/>\n",
      "<meta content=\"html\" name=\"ncbi_format\"/>\n",
      "<meta content=\"20\" name=\"ncbi_pagesize\"/>\n",
      "<meta content=\"default\" name=\"ncbi_sortorder\"/>\n",
      "<meta content=\"1\" name=\"ncbi_pageno\"/>\n",
      "<meta content=\"1\" name=\"ncbi_resultcount\"/>\n",
      "<meta content=\"retrieve\" name=\"ncbi_op\"/>\n",
      "<meta content=\"genbank\" name=\"ncbi_pdid\"/>\n",
      "<meta content=\"CE8A993E38E1E301_1942SID\" name=\"ncbi_sessionid\"/>\n",
      "<meta content=\"1236586396\" name=\"ncbi_uidlist\"/>\n",
      "<meta content=\"all\" name=\"ncbi_filter\"/>\n",
      "<meta content=\"false\" name=\"ncbi_stat\"/>\n",
      "<meta content=\"false\" name=\"ncbi_hitstat\"/>\n",
      "<meta content=\"CE8A993E38DF5FD100000000079606DB.m_21\" name=\"ncbi_phid\"/>\n",
      "<meta content=\"origin-when-cross-origin\" name=\"referrer\"/>\n",
      "ID: 1236586396\n"
     ]
    }
   ],
   "source": [
    "# pip3 install html5lib\n",
    "\n",
    "#Aqui vai buscar a informação (tipo cabeçalho do html) para irmos buscar o ID\n",
    "\n",
    "import requests\n",
    "import re\n",
    "from bs4 import BeautifulSoup\n",
    "\n",
    "\n",
    "# Making a GET request\n",
    "r = requests.get('https://www.ncbi.nlm.nih.gov/nuccore/AP017922.1')\n",
    "\n",
    "# https://www.ncbi.nlm.nih.gov/sviewer/viewer.fcgi?id=804715&db=nuccore&report=genbank&conwithfeat=on&hide-cdd=on&retmode=html&ncbi_phid=CE8B6449389BE9F100000000068605EB&withmarkup=on&tool=portal&log$=seqview&maxdownloadsize=1000000\n",
    "\n",
    "# Parsing the HTML\n",
    "soup = BeautifulSoup(r.content, 'html.parser')\n",
    "\n",
    "# Getting the title tag\n",
    "print(soup.title)\n",
    "\n",
    "# s = soup.find('pre', class_='genbank')\n",
    "# s = soup.find('div', class_='sequence')\n",
    "# s = soup.find_all('meta', name='ncbi_uidlist')\n",
    "\n",
    "lines = soup.find_all('meta')\n",
    "\n",
    "id = \"\"\n",
    "\n",
    "for line in lines:\n",
    "\tprint(line)\n",
    "\tm = re.match(r'\\<meta content=\"(\\d+)\" name=\"ncbi_uidlist\"/\\>',str(line))\n",
    "\tif m:\n",
    "\t\tid = m[1]\n",
    "        \n",
    "print(\"ID:\",id)\n",
    "# use the child attribute to get\n",
    "# the name of the child tag\n"
   ]
  },
  {
   "cell_type": "code",
   "execution_count": 25,
   "metadata": {},
   "outputs": [],
   "source": [
    "# pip3 install html5lib\n",
    "\n",
    "#Utilizando o ID, substituimos no link dado pelo professor para ir buscar a informação essencial do microorganismo, através de webscraping\n",
    "#Peço já desculpa por ser tão grande, mas gosto deste microorganismo em particular :)\n",
    "\n",
    "import requests\n",
    "from bs4 import BeautifulSoup\n",
    "\n",
    "# Making a GET request\n",
    "r = requests.get('https://www.ncbi.nlm.nih.gov/sviewer/viewer.fcgi?id='+id+'&db=nuccore&report=genbank&conwithfeat=on&hide-cdd=on&retmode=text&withmarkup=on&tool=portal&log$=seqview')\n",
    "# r = requests.get('https://www.ncbi.nlm.nih.gov/sviewer/viewer.fcgi?id=804715&db=nuccore&report=genbank&conwithfeat=on&hide-cdd=on&retmode=html&ncbi_phid=CE8B6449389BE9F100000000068605EB&withmarkup=on&tool=portal&log$=seqview&maxdownloadsize=1000000')\n",
    "# r = requests.get('https://www.ncbi.nlm.nih.gov/sviewer/viewer.fcgi?id=2246533317&db=nuccore&report=genbank&conwithfeat=on&hide-cdd=on&retmode=text&ncbi_phid=CE88F25338A215A1000000000483042A&withmarkup=on&tool=portal&log$=seqview&maxdownloadsize=1000000')\n",
    "\n",
    "f = open(\"test.txt\", \"w\")\n",
    "f.write(str(r.text))\n",
    "f.close()\n"
   ]
  },
  {
   "cell_type": "code",
   "execution_count": 27,
   "metadata": {},
   "outputs": [],
   "source": [
    "import re\n",
    "\n",
    "flag = False\n",
    "sequence = \"\"\n",
    "source = \"\"\n",
    "locusid = \"\"\n",
    "keywords = \"\"\n",
    "fonte = open(\"test.txt\",'r')\n",
    "#fonte = r.text\n",
    "for linha in fonte:\n",
    "    if re.search(r\"^LOCUS\", linha):\n",
    "        s = re.match(r\"LOCUS\\s+([^ ]+)\", linha)\n",
    "        if s:\n",
    "            # print( s.group(1) )\n",
    "            locusid = s.group(1)    \n",
    "    if re.search(r\"^SOURCE\", linha):\n",
    "        s = re.match(r\"SOURCE\\s+(.+)\", linha)\n",
    "        if s:\n",
    "            # print( s.group(1) )\n",
    "            source = s.group(1)\n",
    "    if re.search(r\"^KEYWORDS\", linha):\n",
    "        s = re.match(r\"KEYWORDS\\s+(.+)\", linha)\n",
    "        if s:\n",
    "            # print( s.group(1) )\n",
    "            keywords = s.group(1)\n",
    "    if re.search(r\"//\", linha):\n",
    "        flag = False  \n",
    "    if flag:\n",
    "        # print(linha)\n",
    "        s = re.match(r\"\\s+\\d+ ([actg ]+)\", linha)\n",
    "        if s:\n",
    "            # print( s.group(1) )\n",
    "            sequence = sequence + s.group(1).replace(\" \", \"\")\n",
    "            print(sequence)\n",
    "    if re.search(r\"ORIGIN\", linha):\n",
    "        flag = True\n",
    "fonte.close()\n",
    "print( locusid, source, keywords, sequence )"
   ]
  }
 ],
 "metadata": {
  "kernelspec": {
   "display_name": "Python 3.9.13 ('base')",
   "language": "python",
   "name": "python3"
  },
  "language_info": {
   "codemirror_mode": {
    "name": "ipython",
    "version": 3
   },
   "file_extension": ".py",
   "mimetype": "text/x-python",
   "name": "python",
   "nbconvert_exporter": "python",
   "pygments_lexer": "ipython3",
   "version": "3.9.13"
  },
  "orig_nbformat": 4,
  "vscode": {
   "interpreter": {
    "hash": "40cb2e489535bdd41c1d83999ce9ea9a1492722290b71f95a630e0377801ae53"
   }
  }
 },
 "nbformat": 4,
 "nbformat_minor": 2
}
